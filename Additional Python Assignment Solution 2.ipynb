{
 "cells": [
  {
   "cell_type": "code",
   "execution_count": null,
   "metadata": {},
   "outputs": [],
   "source": [
    "#L1\n",
    "# WAP to print all elements of a list using a for loop. \n",
    "# Take the elements of the list from the user.\n",
    "\n",
    "# For e.g. Input: l = [3,'Hi',67,0,12,0,8]\n",
    "#         Output: 3\n",
    "#                 'Hi'\n",
    "#                 67\n",
    "#                 0\n",
    "#                 12\n",
    "#                 0\n",
    "#                 8\n",
    "\n",
    "n = int (input (\"enter the number of elements to be added : \"))\n",
    "my_list = [ ]\n",
    "for x in range(0,n):\n",
    "    ele = str(input ('Enter your elements in list : '))\n",
    "    my_list.append(ele)\n",
    "for a in my_list:\n",
    "    print(a ,sep =\" \")\n",
    "   \n",
    "    "
   ]
  },
  {
   "cell_type": "code",
   "execution_count": null,
   "metadata": {},
   "outputs": [],
   "source": [
    "# #L2\n",
    "# WAP to take inputs from user to make a list. Length of the list has to be taken from the user.\n",
    "# Again take one input from user and search it in the list and delete that element, if found.\n",
    "# If not found, print \"Element not present\".\n",
    "\n",
    "# For e.g. Input: len_list = 5\n",
    "#                 list = [\"a\", \"b\", \"y\", \"e\", \"p\"]\n",
    "#                 search_element = \"g\"\n",
    "#                     Output: \"Element not found\"\n",
    "#                 search_element = \"e\"\n",
    "#                     Output: [\"a\", \"b\", \"y\", \"p\"]\n",
    "\n",
    "\n",
    "len_list = int (input(\"Enter the length of list :  \"))\n",
    "my_list = [ ]\n",
    "for x in range(0,len_list):\n",
    "    ele = str(input ('Enter your elements in list : '))\n",
    "    my_list.append(ele)\n",
    "print(f'The list created : {my_list}')\n",
    "s = input(\"Enter the search element : \")\n",
    "if s not in my_list:\n",
    "    print (\"Element not found \")\n",
    "else: \n",
    "    print('Element found  and deleted')\n",
    "    my_list.remove(s)\n",
    "    print(my_list)\n"
   ]
  },
  {
   "cell_type": "code",
   "execution_count": null,
   "metadata": {},
   "outputs": [],
   "source": [
    "# #L3\n",
    "# Make a grading system for a school based on the marks of the students using the following criteria.\n",
    "# Marks 0 - 40 : Grade F\n",
    "#      41 - 50 : Grade E\n",
    "#      51 - 70 : Grade D\n",
    "#      71 - 80 : Grade C\n",
    "#      81 - 90 : Grade B\n",
    "#      91 - 100: Grade A\n",
    "# Continuously take marks as input from the user and print the grade. \n",
    "# The user can enter \"Stop\" to stop the loop.\n",
    "\n",
    "f = True \n",
    "while(f):\n",
    "    check = input(\"Enter the option 'Y' or 'Stop' :   \")\n",
    "    if check == 'Stop':\n",
    "        print('The program stopped')\n",
    "        f = False\n",
    "    else:\n",
    "        mark = float(input(\"Enter your marks : \"))\n",
    "        if(mark<41):\n",
    "            print('Grade F')\n",
    "        elif(40<mark<51):\n",
    "            print('Grade E')\n",
    "        elif(50<mark<71):\n",
    "            print('Grade D')\n",
    "        elif(70<mark<81):\n",
    "            print('Grade C')\n",
    "        elif(80<mark<91):\n",
    "            print('Grade B')\n",
    "        elif(90<mark<100):\n",
    "            print('Grade A')\n",
    "        else:\n",
    "            pass\n",
    "        \n",
    "\n",
    "        \n",
    "    "
   ]
  },
  {
   "cell_type": "code",
   "execution_count": null,
   "metadata": {},
   "outputs": [],
   "source": [
    "# #L4\n",
    "# WAP to save the cube of all numbers from 1 to a number n in list, \n",
    "# where n is taken as input from the user.\n",
    "\n",
    "# For e.g. Input: 5\n",
    "#         Output: [1, 8, 27, 64, 125]  #Cube of numbers from 1 to 5 where 5 is the input from the user\n",
    "            \n",
    "len_list = int (input(\"Enter the length of list :  \"))\n",
    "my_list = [ ]\n",
    "for x in range(0,len_list):\n",
    "    ele = int(input ('Enter your elements in list : '))**3\n",
    "    my_list.append(ele)\n",
    "print(my_list)\n",
    "\n",
    "    "
   ]
  },
  {
   "cell_type": "code",
   "execution_count": null,
   "metadata": {},
   "outputs": [],
   "source": [
    "# #L5\n",
    "# WAP to print even numbers in a given range in reverse order. Take the range from the user.\n",
    "\n",
    "# For e.g. Input: start = 3\n",
    "#                 End = 14\n",
    "#         Output: 14, 12, 10, 8, 6, 4\n",
    "\n",
    "start = int(input(\"enter the start of the range : \"))\n",
    "stop = int (input('enter the end of the range : '))\n",
    "\n",
    "my_list=list(range(start,stop))\n",
    "new_list = my_list[::-1]\n",
    "update_list=[]\n",
    "for x in new_list:\n",
    "    if x%2== 0:\n",
    "        update_list.append(x)\n",
    "print(update_list)\n",
    "        \n",
    "\n"
   ]
  },
  {
   "cell_type": "code",
   "execution_count": null,
   "metadata": {},
   "outputs": [],
   "source": [
    "# #L6\n",
    "# WAP to print odd numbers in a given range in reverse order.\n",
    "# Take the range from the user.\n",
    "\n",
    "# For e.g. Input: start = 3\n",
    "#                 End = 14\n",
    "#         Output: 13, 11, 9, 7, 5, 3\n",
    "\n",
    "start = int(input(\"enter the start of the range : \"))\n",
    "stop = int (input('enter the end of the range : '))\n",
    "\n",
    "my_list=list(range(start,stop))\n",
    "new_list = my_list[::-1]\n",
    "update_list=[]\n",
    "for x in new_list:\n",
    "    if x%2!= 0:\n",
    "        update_list.append(x)\n",
    "print(update_list)\n",
    "        \n",
    "\n"
   ]
  },
  {
   "cell_type": "code",
   "execution_count": null,
   "metadata": {},
   "outputs": [],
   "source": [
    "# #L7\n",
    "# WAP to print multiplication table of a number taken as input from the user.\n",
    "\n",
    "# For e.g. Input: 5\n",
    "#         Output: 5*1 = 5\n",
    "#                 5*2 = 10\n",
    "#                 .\n",
    "#                 .\n",
    "#                 .\n",
    "#                 5*10 = 50\n",
    "\n",
    "num = int(input (\"Enter the number to print the multiplication table : \"))\n",
    "\n",
    "for x in range(10):\n",
    "    print(f'{num}*{x} = {(num*x)}')\n"
   ]
  },
  {
   "cell_type": "code",
   "execution_count": null,
   "metadata": {},
   "outputs": [],
   "source": [
    "# #L8\n",
    "# WAP to print the following pattern.\n",
    "\n",
    "# 1\n",
    "# 1 2\n",
    "# 1 2 3\n",
    "# 1 2 3 4\n",
    "\n",
    "num = int(input ('enter the number :'))\n",
    "\n",
    "for x in range ( 1,num+1):\n",
    "    for y in range (1,x+1):\n",
    "            print(y,end =\"\")\n",
    "    print()\n"
   ]
  },
  {
   "cell_type": "code",
   "execution_count": null,
   "metadata": {},
   "outputs": [],
   "source": [
    "# L9\n",
    "# Write a program to calculate the sum of series up to n terms for a digit d. n & d are taken as input from the user.\n",
    "\n",
    "# For example:\n",
    "#     Input: n = 5, d = 2\n",
    "#     Logic: 2 + 22 + 222 + 2222 + 22222 \n",
    "#     Output: 24690\n",
    "\n",
    "term = int (input (\"enter the number of terms : \"))\n",
    "num = (input (\"enter the digit :  \"))\n",
    "new = 0\n",
    "for x in range(1,term+1):\n",
    "    w =int(num*x)\n",
    "    new = w + new\n",
    "print(f'sum of digits : {new}')\n",
    "   \n",
    "    \n",
    "   \n",
    "    \n",
    "\n"
   ]
  },
  {
   "cell_type": "code",
   "execution_count": null,
   "metadata": {},
   "outputs": [],
   "source": [
    "# #L10\n",
    "# WAP that keeps on accepting numbers from the user until the user enters Zero(0) as input.\n",
    "# Display the sum and average of all the numbers.\n",
    "\n",
    "# For example:\n",
    "#     Input: 3, 6, 8, 2, 5, Stop\n",
    "#     Output: Sum = 24\n",
    "#             Average = 4.8\n",
    "\n",
    "z = True\n",
    "new = []\n",
    "while (z):\n",
    "    num = int (input (\"enter the number : \"))\n",
    "    if num == 0:\n",
    "        z = False \n",
    "    else : \n",
    "        new.append(num)\n",
    "print (f'The sum of numbers is :{sum(new)}')\n",
    "print (f'The avg of numbers is : {sum(new)/len(new)}')    \n",
    "    "
   ]
  },
  {
   "cell_type": "code",
   "execution_count": null,
   "metadata": {},
   "outputs": [],
   "source": [
    "# #L11\n",
    "# Accept n numbers from the user and display their average. n is input from the user.\n",
    "\n",
    "# For example:\n",
    "#     Input: n = 5\n",
    "#         Numbers = 3, 6, 2, 9, 0\n",
    "#     Output: Average = 4.0\n",
    "\n",
    "n = int (input(\"enter the total numbers to be accepted : \"))\n",
    "num_list = []\n",
    "for x in range(n):\n",
    "    num = int(input (\"enter the number : \"))\n",
    "    num_list.append(num)\n",
    "print(f'The avg of num  :{sum(num_list)/n}')"
   ]
  },
  {
   "cell_type": "code",
   "execution_count": null,
   "metadata": {},
   "outputs": [],
   "source": [
    "# #S1 \n",
    "# Write a Python program to count the number of each of the characters (character frequency) \n",
    "\n",
    "#    in a string input by the user. Ignore the case.\n",
    "#    For example: Input: \"Python is great\"\n",
    "# \t\tOutput: P = 1, y = 1, t = 2, and so on...\n",
    "\n",
    "my_str = list(input(\"enter the string :  \"))\n",
    "\n",
    "for x in my_str:\n",
    "    print(f'the count of {x} is {my_str.count(x)}')\n"
   ]
  },
  {
   "cell_type": "code",
   "execution_count": 2,
   "metadata": {},
   "outputs": [
    {
     "name": "stdout",
     "output_type": "stream",
     "text": [
      "enter the mob number : 98230\n",
      "14567"
     ]
    }
   ],
   "source": [
    "# #S2\n",
    "# Write a Python program to find the digits which are absent in a given mobile number.\n",
    "\n",
    "#    For example: Input : 9354328855\n",
    "#                 Output: 0167\n",
    "\n",
    "\n",
    "mob = list(input(\"enter the mob number : \"))\n",
    "new_mob = [int(i) for i in mob]\n",
    "\n",
    "for x in range(0,10):\n",
    "    if x not in new_mob:\n",
    "        print(x,end =\"\")\n",
    "        \n",
    "\n",
    "   "
   ]
  },
  {
   "cell_type": "code",
   "execution_count": null,
   "metadata": {},
   "outputs": [],
   "source": [
    "# # #S3\n",
    "# WAP in python to find average of n numbers taken as input from the user dynamically.\n",
    "\n",
    "inp = int(input (\"enter the total numbers to be entered : \"))\n",
    "num_list = []\n",
    "for x in range (inp):\n",
    "    num = (int (input(\"enter the number : \")))\n",
    "    num_list.append(num)\n",
    "print(f'The avg of numbers is {sum(num_list)/inp}')"
   ]
  },
  {
   "cell_type": "code",
   "execution_count": null,
   "metadata": {},
   "outputs": [],
   "source": []
  },
  {
   "cell_type": "code",
   "execution_count": null,
   "metadata": {},
   "outputs": [],
   "source": []
  },
  {
   "cell_type": "code",
   "execution_count": null,
   "metadata": {},
   "outputs": [],
   "source": []
  },
  {
   "cell_type": "code",
   "execution_count": null,
   "metadata": {},
   "outputs": [],
   "source": []
  },
  {
   "cell_type": "code",
   "execution_count": null,
   "metadata": {},
   "outputs": [],
   "source": []
  },
  {
   "cell_type": "code",
   "execution_count": null,
   "metadata": {},
   "outputs": [],
   "source": []
  },
  {
   "cell_type": "code",
   "execution_count": null,
   "metadata": {},
   "outputs": [],
   "source": []
  },
  {
   "cell_type": "code",
   "execution_count": null,
   "metadata": {},
   "outputs": [],
   "source": []
  },
  {
   "cell_type": "code",
   "execution_count": null,
   "metadata": {},
   "outputs": [],
   "source": []
  },
  {
   "cell_type": "code",
   "execution_count": null,
   "metadata": {},
   "outputs": [],
   "source": []
  },
  {
   "cell_type": "code",
   "execution_count": null,
   "metadata": {},
   "outputs": [],
   "source": []
  },
  {
   "cell_type": "code",
   "execution_count": null,
   "metadata": {},
   "outputs": [],
   "source": []
  },
  {
   "cell_type": "code",
   "execution_count": null,
   "metadata": {},
   "outputs": [],
   "source": []
  },
  {
   "cell_type": "code",
   "execution_count": null,
   "metadata": {},
   "outputs": [],
   "source": []
  }
 ],
 "metadata": {
  "kernelspec": {
   "display_name": "Python 3",
   "language": "python",
   "name": "python3"
  },
  "language_info": {
   "codemirror_mode": {
    "name": "ipython",
    "version": 3
   },
   "file_extension": ".py",
   "mimetype": "text/x-python",
   "name": "python",
   "nbconvert_exporter": "python",
   "pygments_lexer": "ipython3",
   "version": "3.7.6"
  }
 },
 "nbformat": 4,
 "nbformat_minor": 4
}
