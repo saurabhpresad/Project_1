{
  "nbformat": 4,
  "nbformat_minor": 0,
  "metadata": {
    "colab": {
      "name": "Simplilearn_Practice_FireStation.ipynb",
      "provenance": [],
      "collapsed_sections": [],
      "authorship_tag": "ABX9TyMbfuGtwdJVRZAOm7Ni8jfP"
    },
    "kernelspec": {
      "name": "python3",
      "display_name": "Python 3"
    },
    "language_info": {
      "name": "python"
    }
  },
  "cells": [
    {
      "cell_type": "code",
      "execution_count": 1,
      "metadata": {
        "id": "EnRVMzGu9DFN"
      },
      "outputs": [],
      "source": [
        "import pandas as pd"
      ]
    },
    {
      "cell_type": "code",
      "source": [
        "#Loading the csv file and checking the head\n",
        "df = pd.read_csv(\"FDNY.csv\")\n",
        "df.head(5)"
      ],
      "metadata": {
        "colab": {
          "base_uri": "https://localhost:8080/",
          "height": 206
        },
        "id": "d5B-Ob1h9Skc",
        "outputId": "35c5dec8-08fe-4efe-c769-e1443c2a7fc2"
      },
      "execution_count": 6,
      "outputs": [
        {
          "output_type": "execute_result",
          "data": {
            "text/plain": [
              "                                        FacilityName       FacilityAddress  \\\n",
              "0                                       FacilityName       FacilityAddress   \n",
              "1                                 Engine 4/Ladder 15       42 South Street   \n",
              "2                                Engine 10/Ladder 10    124 Liberty Street   \n",
              "3                                           Engine 6     49 Beekman Street   \n",
              "4  Engine 7/Ladder 1/Battalion 1/Manhattan Boroug...  100-104 Duane Street   \n",
              "\n",
              "     Borough  \n",
              "0    Borough  \n",
              "1  Manhattan  \n",
              "2  Manhattan  \n",
              "3  Manhattan  \n",
              "4  Manhattan  "
            ],
            "text/html": [
              "\n",
              "  <div id=\"df-7da50530-62c9-4174-8b0e-e3f20b62236c\">\n",
              "    <div class=\"colab-df-container\">\n",
              "      <div>\n",
              "<style scoped>\n",
              "    .dataframe tbody tr th:only-of-type {\n",
              "        vertical-align: middle;\n",
              "    }\n",
              "\n",
              "    .dataframe tbody tr th {\n",
              "        vertical-align: top;\n",
              "    }\n",
              "\n",
              "    .dataframe thead th {\n",
              "        text-align: right;\n",
              "    }\n",
              "</style>\n",
              "<table border=\"1\" class=\"dataframe\">\n",
              "  <thead>\n",
              "    <tr style=\"text-align: right;\">\n",
              "      <th></th>\n",
              "      <th>FacilityName</th>\n",
              "      <th>FacilityAddress</th>\n",
              "      <th>Borough</th>\n",
              "    </tr>\n",
              "  </thead>\n",
              "  <tbody>\n",
              "    <tr>\n",
              "      <th>0</th>\n",
              "      <td>FacilityName</td>\n",
              "      <td>FacilityAddress</td>\n",
              "      <td>Borough</td>\n",
              "    </tr>\n",
              "    <tr>\n",
              "      <th>1</th>\n",
              "      <td>Engine 4/Ladder 15</td>\n",
              "      <td>42 South Street</td>\n",
              "      <td>Manhattan</td>\n",
              "    </tr>\n",
              "    <tr>\n",
              "      <th>2</th>\n",
              "      <td>Engine 10/Ladder 10</td>\n",
              "      <td>124 Liberty Street</td>\n",
              "      <td>Manhattan</td>\n",
              "    </tr>\n",
              "    <tr>\n",
              "      <th>3</th>\n",
              "      <td>Engine 6</td>\n",
              "      <td>49 Beekman Street</td>\n",
              "      <td>Manhattan</td>\n",
              "    </tr>\n",
              "    <tr>\n",
              "      <th>4</th>\n",
              "      <td>Engine 7/Ladder 1/Battalion 1/Manhattan Boroug...</td>\n",
              "      <td>100-104 Duane Street</td>\n",
              "      <td>Manhattan</td>\n",
              "    </tr>\n",
              "  </tbody>\n",
              "</table>\n",
              "</div>\n",
              "      <button class=\"colab-df-convert\" onclick=\"convertToInteractive('df-7da50530-62c9-4174-8b0e-e3f20b62236c')\"\n",
              "              title=\"Convert this dataframe to an interactive table.\"\n",
              "              style=\"display:none;\">\n",
              "        \n",
              "  <svg xmlns=\"http://www.w3.org/2000/svg\" height=\"24px\"viewBox=\"0 0 24 24\"\n",
              "       width=\"24px\">\n",
              "    <path d=\"M0 0h24v24H0V0z\" fill=\"none\"/>\n",
              "    <path d=\"M18.56 5.44l.94 2.06.94-2.06 2.06-.94-2.06-.94-.94-2.06-.94 2.06-2.06.94zm-11 1L8.5 8.5l.94-2.06 2.06-.94-2.06-.94L8.5 2.5l-.94 2.06-2.06.94zm10 10l.94 2.06.94-2.06 2.06-.94-2.06-.94-.94-2.06-.94 2.06-2.06.94z\"/><path d=\"M17.41 7.96l-1.37-1.37c-.4-.4-.92-.59-1.43-.59-.52 0-1.04.2-1.43.59L10.3 9.45l-7.72 7.72c-.78.78-.78 2.05 0 2.83L4 21.41c.39.39.9.59 1.41.59.51 0 1.02-.2 1.41-.59l7.78-7.78 2.81-2.81c.8-.78.8-2.07 0-2.86zM5.41 20L4 18.59l7.72-7.72 1.47 1.35L5.41 20z\"/>\n",
              "  </svg>\n",
              "      </button>\n",
              "      \n",
              "  <style>\n",
              "    .colab-df-container {\n",
              "      display:flex;\n",
              "      flex-wrap:wrap;\n",
              "      gap: 12px;\n",
              "    }\n",
              "\n",
              "    .colab-df-convert {\n",
              "      background-color: #E8F0FE;\n",
              "      border: none;\n",
              "      border-radius: 50%;\n",
              "      cursor: pointer;\n",
              "      display: none;\n",
              "      fill: #1967D2;\n",
              "      height: 32px;\n",
              "      padding: 0 0 0 0;\n",
              "      width: 32px;\n",
              "    }\n",
              "\n",
              "    .colab-df-convert:hover {\n",
              "      background-color: #E2EBFA;\n",
              "      box-shadow: 0px 1px 2px rgba(60, 64, 67, 0.3), 0px 1px 3px 1px rgba(60, 64, 67, 0.15);\n",
              "      fill: #174EA6;\n",
              "    }\n",
              "\n",
              "    [theme=dark] .colab-df-convert {\n",
              "      background-color: #3B4455;\n",
              "      fill: #D2E3FC;\n",
              "    }\n",
              "\n",
              "    [theme=dark] .colab-df-convert:hover {\n",
              "      background-color: #434B5C;\n",
              "      box-shadow: 0px 1px 3px 1px rgba(0, 0, 0, 0.15);\n",
              "      filter: drop-shadow(0px 1px 2px rgba(0, 0, 0, 0.3));\n",
              "      fill: #FFFFFF;\n",
              "    }\n",
              "  </style>\n",
              "\n",
              "      <script>\n",
              "        const buttonEl =\n",
              "          document.querySelector('#df-7da50530-62c9-4174-8b0e-e3f20b62236c button.colab-df-convert');\n",
              "        buttonEl.style.display =\n",
              "          google.colab.kernel.accessAllowed ? 'block' : 'none';\n",
              "\n",
              "        async function convertToInteractive(key) {\n",
              "          const element = document.querySelector('#df-7da50530-62c9-4174-8b0e-e3f20b62236c');\n",
              "          const dataTable =\n",
              "            await google.colab.kernel.invokeFunction('convertToInteractive',\n",
              "                                                     [key], {});\n",
              "          if (!dataTable) return;\n",
              "\n",
              "          const docLinkHtml = 'Like what you see? Visit the ' +\n",
              "            '<a target=\"_blank\" href=https://colab.research.google.com/notebooks/data_table.ipynb>data table notebook</a>'\n",
              "            + ' to learn more about interactive tables.';\n",
              "          element.innerHTML = '';\n",
              "          dataTable['output_type'] = 'display_data';\n",
              "          await google.colab.output.renderOutput(dataTable, element);\n",
              "          const docLink = document.createElement('div');\n",
              "          docLink.innerHTML = docLinkHtml;\n",
              "          element.appendChild(docLink);\n",
              "        }\n",
              "      </script>\n",
              "    </div>\n",
              "  </div>\n",
              "  "
            ]
          },
          "metadata": {},
          "execution_count": 6
        }
      ]
    },
    {
      "cell_type": "code",
      "source": [
        "#Cleaning the data by removing the first row\n",
        "df= df.iloc[1:,:]"
      ],
      "metadata": {
        "id": "zrtqLxpp-kQs"
      },
      "execution_count": 10,
      "outputs": []
    },
    {
      "cell_type": "code",
      "source": [
        "df.head(5)"
      ],
      "metadata": {
        "colab": {
          "base_uri": "https://localhost:8080/",
          "height": 206
        },
        "id": "s_USqY0O-6Xp",
        "outputId": "f1813754-aa7c-4835-d703-8d31c57c398a"
      },
      "execution_count": 9,
      "outputs": [
        {
          "output_type": "execute_result",
          "data": {
            "text/plain": [
              "                                        FacilityName        FacilityAddress  \\\n",
              "1                                 Engine 4/Ladder 15        42 South Street   \n",
              "2                                Engine 10/Ladder 10     124 Liberty Street   \n",
              "3                                           Engine 6      49 Beekman Street   \n",
              "4  Engine 7/Ladder 1/Battalion 1/Manhattan Boroug...   100-104 Duane Street   \n",
              "5                                           Ladder 8  14 North Moore Street   \n",
              "\n",
              "     Borough  \n",
              "1  Manhattan  \n",
              "2  Manhattan  \n",
              "3  Manhattan  \n",
              "4  Manhattan  \n",
              "5  Manhattan  "
            ],
            "text/html": [
              "\n",
              "  <div id=\"df-46fcda3d-1474-475e-855a-c6f785acbccd\">\n",
              "    <div class=\"colab-df-container\">\n",
              "      <div>\n",
              "<style scoped>\n",
              "    .dataframe tbody tr th:only-of-type {\n",
              "        vertical-align: middle;\n",
              "    }\n",
              "\n",
              "    .dataframe tbody tr th {\n",
              "        vertical-align: top;\n",
              "    }\n",
              "\n",
              "    .dataframe thead th {\n",
              "        text-align: right;\n",
              "    }\n",
              "</style>\n",
              "<table border=\"1\" class=\"dataframe\">\n",
              "  <thead>\n",
              "    <tr style=\"text-align: right;\">\n",
              "      <th></th>\n",
              "      <th>FacilityName</th>\n",
              "      <th>FacilityAddress</th>\n",
              "      <th>Borough</th>\n",
              "    </tr>\n",
              "  </thead>\n",
              "  <tbody>\n",
              "    <tr>\n",
              "      <th>1</th>\n",
              "      <td>Engine 4/Ladder 15</td>\n",
              "      <td>42 South Street</td>\n",
              "      <td>Manhattan</td>\n",
              "    </tr>\n",
              "    <tr>\n",
              "      <th>2</th>\n",
              "      <td>Engine 10/Ladder 10</td>\n",
              "      <td>124 Liberty Street</td>\n",
              "      <td>Manhattan</td>\n",
              "    </tr>\n",
              "    <tr>\n",
              "      <th>3</th>\n",
              "      <td>Engine 6</td>\n",
              "      <td>49 Beekman Street</td>\n",
              "      <td>Manhattan</td>\n",
              "    </tr>\n",
              "    <tr>\n",
              "      <th>4</th>\n",
              "      <td>Engine 7/Ladder 1/Battalion 1/Manhattan Boroug...</td>\n",
              "      <td>100-104 Duane Street</td>\n",
              "      <td>Manhattan</td>\n",
              "    </tr>\n",
              "    <tr>\n",
              "      <th>5</th>\n",
              "      <td>Ladder 8</td>\n",
              "      <td>14 North Moore Street</td>\n",
              "      <td>Manhattan</td>\n",
              "    </tr>\n",
              "  </tbody>\n",
              "</table>\n",
              "</div>\n",
              "      <button class=\"colab-df-convert\" onclick=\"convertToInteractive('df-46fcda3d-1474-475e-855a-c6f785acbccd')\"\n",
              "              title=\"Convert this dataframe to an interactive table.\"\n",
              "              style=\"display:none;\">\n",
              "        \n",
              "  <svg xmlns=\"http://www.w3.org/2000/svg\" height=\"24px\"viewBox=\"0 0 24 24\"\n",
              "       width=\"24px\">\n",
              "    <path d=\"M0 0h24v24H0V0z\" fill=\"none\"/>\n",
              "    <path d=\"M18.56 5.44l.94 2.06.94-2.06 2.06-.94-2.06-.94-.94-2.06-.94 2.06-2.06.94zm-11 1L8.5 8.5l.94-2.06 2.06-.94-2.06-.94L8.5 2.5l-.94 2.06-2.06.94zm10 10l.94 2.06.94-2.06 2.06-.94-2.06-.94-.94-2.06-.94 2.06-2.06.94z\"/><path d=\"M17.41 7.96l-1.37-1.37c-.4-.4-.92-.59-1.43-.59-.52 0-1.04.2-1.43.59L10.3 9.45l-7.72 7.72c-.78.78-.78 2.05 0 2.83L4 21.41c.39.39.9.59 1.41.59.51 0 1.02-.2 1.41-.59l7.78-7.78 2.81-2.81c.8-.78.8-2.07 0-2.86zM5.41 20L4 18.59l7.72-7.72 1.47 1.35L5.41 20z\"/>\n",
              "  </svg>\n",
              "      </button>\n",
              "      \n",
              "  <style>\n",
              "    .colab-df-container {\n",
              "      display:flex;\n",
              "      flex-wrap:wrap;\n",
              "      gap: 12px;\n",
              "    }\n",
              "\n",
              "    .colab-df-convert {\n",
              "      background-color: #E8F0FE;\n",
              "      border: none;\n",
              "      border-radius: 50%;\n",
              "      cursor: pointer;\n",
              "      display: none;\n",
              "      fill: #1967D2;\n",
              "      height: 32px;\n",
              "      padding: 0 0 0 0;\n",
              "      width: 32px;\n",
              "    }\n",
              "\n",
              "    .colab-df-convert:hover {\n",
              "      background-color: #E2EBFA;\n",
              "      box-shadow: 0px 1px 2px rgba(60, 64, 67, 0.3), 0px 1px 3px 1px rgba(60, 64, 67, 0.15);\n",
              "      fill: #174EA6;\n",
              "    }\n",
              "\n",
              "    [theme=dark] .colab-df-convert {\n",
              "      background-color: #3B4455;\n",
              "      fill: #D2E3FC;\n",
              "    }\n",
              "\n",
              "    [theme=dark] .colab-df-convert:hover {\n",
              "      background-color: #434B5C;\n",
              "      box-shadow: 0px 1px 3px 1px rgba(0, 0, 0, 0.15);\n",
              "      filter: drop-shadow(0px 1px 2px rgba(0, 0, 0, 0.3));\n",
              "      fill: #FFFFFF;\n",
              "    }\n",
              "  </style>\n",
              "\n",
              "      <script>\n",
              "        const buttonEl =\n",
              "          document.querySelector('#df-46fcda3d-1474-475e-855a-c6f785acbccd button.colab-df-convert');\n",
              "        buttonEl.style.display =\n",
              "          google.colab.kernel.accessAllowed ? 'block' : 'none';\n",
              "\n",
              "        async function convertToInteractive(key) {\n",
              "          const element = document.querySelector('#df-46fcda3d-1474-475e-855a-c6f785acbccd');\n",
              "          const dataTable =\n",
              "            await google.colab.kernel.invokeFunction('convertToInteractive',\n",
              "                                                     [key], {});\n",
              "          if (!dataTable) return;\n",
              "\n",
              "          const docLinkHtml = 'Like what you see? Visit the ' +\n",
              "            '<a target=\"_blank\" href=https://colab.research.google.com/notebooks/data_table.ipynb>data table notebook</a>'\n",
              "            + ' to learn more about interactive tables.';\n",
              "          element.innerHTML = '';\n",
              "          dataTable['output_type'] = 'display_data';\n",
              "          await google.colab.output.renderOutput(dataTable, element);\n",
              "          const docLink = document.createElement('div');\n",
              "          docLink.innerHTML = docLinkHtml;\n",
              "          element.appendChild(docLink);\n",
              "        }\n",
              "      </script>\n",
              "    </div>\n",
              "  </div>\n",
              "  "
            ]
          },
          "metadata": {},
          "execution_count": 9
        }
      ]
    },
    {
      "cell_type": "code",
      "source": [
        "df.count(axis =0)"
      ],
      "metadata": {
        "colab": {
          "base_uri": "https://localhost:8080/"
        },
        "id": "jqz_C30S-7tm",
        "outputId": "aeca670e-3bdf-4f5a-9445-5c1f49c5df4a"
      },
      "execution_count": 13,
      "outputs": [
        {
          "output_type": "execute_result",
          "data": {
            "text/plain": [
              "FacilityName       217\n",
              "FacilityAddress    217\n",
              "Borough            217\n",
              "dtype: int64"
            ]
          },
          "metadata": {},
          "execution_count": 13
        }
      ]
    },
    {
      "cell_type": "code",
      "source": [
        "df['FacilityName'].value_counts()"
      ],
      "metadata": {
        "colab": {
          "base_uri": "https://localhost:8080/"
        },
        "id": "60leQN5__hFa",
        "outputId": "d5d39756-c624-42dc-a7d1-f159859a624f"
      },
      "execution_count": 15,
      "outputs": [
        {
          "output_type": "execute_result",
          "data": {
            "text/plain": [
              "Engine 10/Ladder 10                   1\n",
              "Engine 259/Ladder 128/Battalion 45    1\n",
              "Engine 253                            1\n",
              "Engine 318/Ladder 166                 1\n",
              "Engine 254/Ladder 153                 1\n",
              "                                     ..\n",
              "Engine 63/Ladder 39/Battalion 15      1\n",
              "Engine 66/Ladder 61                   1\n",
              "Engine 89/Ladder 50                   1\n",
              "Engine 72                             1\n",
              "Engine 151/Ladder 76                  1\n",
              "Name: FacilityName, Length: 217, dtype: int64"
            ]
          },
          "metadata": {},
          "execution_count": 15
        }
      ]
    },
    {
      "cell_type": "code",
      "source": [
        "#to find the number of department facilities in each borough\n",
        "df['Borough'].value_counts()"
      ],
      "metadata": {
        "colab": {
          "base_uri": "https://localhost:8080/"
        },
        "id": "TfTrIAjIACFN",
        "outputId": "790ae1a0-83b1-4017-aafe-97e3a72cd70c"
      },
      "execution_count": 16,
      "outputs": [
        {
          "output_type": "execute_result",
          "data": {
            "text/plain": [
              "Brooklyn         66\n",
              "Queens           50\n",
              "Manhattan        47\n",
              "Bronx            34\n",
              "Staten Island    20\n",
              "Name: Borough, dtype: int64"
            ]
          },
          "metadata": {},
          "execution_count": 16
        }
      ]
    },
    {
      "cell_type": "code",
      "source": [
        "print(df['Borough'].value_counts()['Manhattan']) # prints the number of boroughs in Manhattan"
      ],
      "metadata": {
        "colab": {
          "base_uri": "https://localhost:8080/"
        },
        "id": "LgXuf7KMAZUS",
        "outputId": "fd20478b-2e3c-4aec-f0ef-6b9ede91b1cb"
      },
      "execution_count": 26,
      "outputs": [
        {
          "output_type": "stream",
          "name": "stdout",
          "text": [
            "47\n"
          ]
        }
      ]
    },
    {
      "cell_type": "code",
      "source": [
        "new = df[df['Borough']=='Manhattan']"
      ],
      "metadata": {
        "id": "ylvgJk2cAuKl"
      },
      "execution_count": 28,
      "outputs": []
    },
    {
      "cell_type": "code",
      "source": [
        "new['FacilityName']#printing the facility name in Manhattan\n"
      ],
      "metadata": {
        "colab": {
          "base_uri": "https://localhost:8080/"
        },
        "id": "iKS-NtmGIcXE",
        "outputId": "b72a82a9-7e8a-4965-e8fe-8623bdf39ccb"
      },
      "execution_count": 29,
      "outputs": [
        {
          "output_type": "execute_result",
          "data": {
            "text/plain": [
              "2                                   Engine 10/Ladder 10\n",
              "3                                              Engine 6\n",
              "4     Engine 7/Ladder 1/Battalion 1/Manhattan Boroug...\n",
              "5                                              Ladder 8\n",
              "6                                     Engine 9/Ladder 6\n",
              "7                       Engine 15/Ladder 18/Battalion 4\n",
              "8                                   Engine 28/Ladder 11\n",
              "9                                              Engine 5\n",
              "10                                            Engine 55\n",
              "11                                 Ladder 20/Division 1\n",
              "12                       Engine 24/Ladder 5/Battalion 2\n",
              "13                                   Engine 33/Ladder 9\n",
              "14                                 Ladder 3/Battalion 6\n",
              "15                                             Squad 18\n",
              "16                                  Engine 34/Ladder 21\n",
              "17                                            Engine 26\n",
              "18                       Engine 3/Ladder 12/Battalion 7\n",
              "19                                   Engine 1/Ladder 24\n",
              "20                                            Engine 14\n",
              "21                                Engine 16 / Ladder 7 \n",
              "22                                            Engine 21\n",
              "23                       Engine 54/Ladder 4/Battalion 9\n",
              "24                                            Engine 23\n",
              "25                                             Rescue 1\n",
              "26                                  Engine 40/Ladder 35\n",
              "27               Ladder 25/District Office 4/Division 3\n",
              "28                                            Engine 74\n",
              "29                                            Engine 65\n",
              "30                    Engine 8 / Ladder 2 / Battalion 8\n",
              "31                                  Engine 39/Ladder 16\n",
              "32                                            Engine 44\n",
              "33                     Engine 22/Ladder 13/Battalion 10\n",
              "34                                  Engine 58/Ladder 26\n",
              "35                                  Engine 53/Ladder 43\n",
              "36                                            Engine 91\n",
              "37                                  Engine 35/Ladder 14\n",
              "38                     Engine 76/Ladder 22/Battalion 11\n",
              "39                                            Engine 47\n",
              "40                                  Engine 59/Ladder 30\n",
              "41                                  Engine 37/Ladder 40\n",
              "42                     Engine 69/Ladder 28/Battalion 16\n",
              "43                                  Engine 80/Ladder 23\n",
              "44                                  Engine 84/Ladder 34\n",
              "45                                            Engine 67\n",
              "46                     Engine 93/Ladder 45/Battalion 13\n",
              "47                                  Engine 95/Ladder 36\n",
              "48                                             Marine 1\n",
              "Name: FacilityName, dtype: object"
            ]
          },
          "metadata": {},
          "execution_count": 29
        }
      ]
    },
    {
      "cell_type": "code",
      "source": [
        ""
      ],
      "metadata": {
        "id": "gAYBjA45ItJt"
      },
      "execution_count": null,
      "outputs": []
    }
  ]
}